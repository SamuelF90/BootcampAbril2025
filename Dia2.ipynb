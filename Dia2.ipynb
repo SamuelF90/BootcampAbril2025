{
 "cells": [
  {
   "cell_type": "code",
   "execution_count": 28,
   "id": "3d8d128c",
   "metadata": {},
   "outputs": [
    {
     "ename": "SyntaxError",
     "evalue": "invalid syntax (4202127206.py, line 4)",
     "output_type": "error",
     "traceback": [
      "  \u001b[36mCell\u001b[39m\u001b[36m \u001b[39m\u001b[32mIn[28]\u001b[39m\u001b[32m, line 4\u001b[39m\n\u001b[31m    \u001b[39m\u001b[31mprint (f 'Hola{nombre}')\u001b[39m\n             ^\n\u001b[31mSyntaxError\u001b[39m\u001b[31m:\u001b[39m invalid syntax\n"
     ]
    }
   ],
   "source": [
    "#REPASO FUNCION \n",
    "#FUNCION SALUDO\n",
    "def saludo_bienvenida(nombre):\n",
    "    print (f 'Hola{nombre}')\n",
    "saludo_bienvenida('Carlos')   \n",
    "\n"
   ]
  },
  {
   "cell_type": "code",
   "execution_count": 11,
   "id": "8dc8760a",
   "metadata": {},
   "outputs": [
    {
     "name": "stdout",
     "output_type": "stream",
     "text": [
      "Es mayor puede ingresar\n"
     ]
    }
   ],
   "source": [
    "#Condicionales\n",
    "edad=18\n",
    "if edad<18:\n",
    "    print('Es menor no entra')\n",
    "\n",
    "else:    \n",
    "    print('Es mayor puede ingresar')\n"
   ]
  },
  {
   "cell_type": "code",
   "execution_count": 32,
   "id": "522f851e",
   "metadata": {},
   "outputs": [
    {
     "name": "stdout",
     "output_type": "stream",
     "text": [
      "Podes tomar pero no comprar \n"
     ]
    }
   ],
   "source": [
    "\n",
    "\n",
    "\n",
    "#Escribe un programa que pregunte al usuario por su edad y determine si tiene edad suficiente para comprar y consumir alcohol.\n",
    "# Si el usuario tiene mas de 18 pero menos de 21 impirmir \"Podes tomar pero no comprar\"\n",
    "#Si el usuario tiene menos de 18 imprimir \"Juguito nomas\"\n",
    "# Si el usuario tiene mas de 21 imprimir \"Hace lo que quieras\"\n",
    "edad = int(input('Ingrese su edad'))\n",
    "if edad < 18:\n",
    "    print ('Vos juguito nomas')\n",
    "\n",
    "elif edad >= 21:\n",
    "    print ('Hace lo que quieras')\n",
    "else:\n",
    "    print ('Podes tomar pero no comprar ')\n",
    "\n"
   ]
  },
  {
   "cell_type": "code",
   "execution_count": 71,
   "id": "41cabfcf",
   "metadata": {},
   "outputs": [],
   "source": [
    "#OPERADORES LOGICOS\n",
    "#AND OR NOT - Y - O - NO \n",
    "\n"
   ]
  },
  {
   "cell_type": "code",
   "execution_count": 7,
   "id": "d36d53d6",
   "metadata": {},
   "outputs": [
    {
     "name": "stdout",
     "output_type": "stream",
     "text": [
      "19\n",
      "Fresquete\n"
     ]
    }
   ],
   "source": [
    "#Escribir un programa en el que se pregunte al usuario por una temperatura (en grados Celsius), imprima la temperatura escrita, y luego clasificar la temperatura ingresada en los siguientes niveles:\n",
    "\n",
    "#Entre -10 y 18 grados, que imprima \"Fresquete\".\n",
    "#Entre 19 y 30 grados, que imprima \"Calor'i\".\n",
    "#Entre 31 y 45 grados, que imprima \"Hakuuuuuu\".\n",
    "#Para todo lo demás, imprimir \"Ñamano mba'e!\".\n",
    "Temperatura= int (input('Ingrese Temperatura en Celsius'))\n",
    "print(Temperatura)\n",
    "if Temperatura >-10 and Temperatura >= 18:\n",
    "    print ('Fresquete')\n",
    "elif Temperatura >=19 and Temperatura<=30:\n",
    "    print('Calor i')\n",
    "elif Temperatura<=45 and Temperatura >= 31:\n",
    "    print ('Hakuuuu')    \n",
    "else:\n",
    "    print (\"ÑAMANOTAAAA\")\n",
    "\n",
    "\n"
   ]
  },
  {
   "cell_type": "code",
   "execution_count": null,
   "id": "6381876b",
   "metadata": {},
   "outputs": [
    {
     "name": "stdout",
     "output_type": "stream",
     "text": [
      "Password Incorrecto\n",
      "Password Correcto\n"
     ]
    }
   ],
   "source": [
    "password = 'ABCD'\n",
    "contra = (input('Ingrese password correcto'))\n",
    "\n",
    "while contra != password:\n",
    "    print('Password Incorrecto')\n",
    "    break\n",
    "    contra = (input('Ingrese password correcto'))\n",
    "print('Password Correcto')\n",
    "\n"
   ]
  },
  {
   "cell_type": "code",
   "execution_count": null,
   "id": "8525f86b",
   "metadata": {},
   "outputs": [],
   "source": [
    "#LISTAS\n",
    "lista_frutas=['pera','manzana','banana']\n",
    "lista_bool=[True,False,True]\n",
    "lista_numeros=[1,2,3]"
   ]
  },
  {
   "cell_type": "code",
   "execution_count": 37,
   "id": "7d3060b0",
   "metadata": {},
   "outputs": [
    {
     "name": "stdout",
     "output_type": "stream",
     "text": [
      "['ferrari', 'toyota', 'mercedes-benz', 'bmw', 'nissan', 'chevrolet']\n",
      "['ferrari', 'alfa romeo', 'mercedes-benz', 'bmw', 'nissan', 'chevrolet']\n",
      "['ferrari', 'alfa romeo', 'bmw', 'nissan', 'chevrolet']\n"
     ]
    }
   ],
   "source": [
    "#Crea una lista de 5 elementos luego seguir los siguientes pasos\n",
    "#agregar un elemento al final de la lista\n",
    "#modificar el segundo elemento\n",
    "#eliminar el 3er elemento\n",
    "\n",
    "lista_autos=['ferrari','toyota','mercedes-benz', 'bmw', 'nissan']\n",
    "lista_autos.append('chevrolet')\n",
    "print(lista_autos)\n",
    "\n",
    "lista_autos[1] = 'alfa romeo'\n",
    "print(lista_autos)\n",
    "\n",
    "lista_autos.pop(2)\n",
    "print(lista_autos)\n"
   ]
  },
  {
   "cell_type": "code",
   "execution_count": 39,
   "id": "f01ff666",
   "metadata": {},
   "outputs": [
    {
     "name": "stdout",
     "output_type": "stream",
     "text": [
      "1\n",
      "2\n",
      "3\n",
      "4\n",
      "5\n",
      "6\n",
      "7\n",
      "Real Madrid Campeon 50-55\n",
      "Real Madrid Campeon 50-55\n",
      "Real Madrid Campeon 50-55\n",
      "Real Madrid Campeon 50-55\n",
      "Real Madrid Campeon 50-55\n"
     ]
    }
   ],
   "source": [
    "#Bucle For\n",
    "dias_de_la_semana = [1,2,3,4,5,6,7]\n",
    "for i in dias_de_la_semana:\n",
    "    print(i)\n",
    "    \n",
    "for i in range (5):\n",
    "    print('Real Madrid Campeon 50-55')"
   ]
  },
  {
   "cell_type": "code",
   "execution_count": 4,
   "id": "3efabfa8",
   "metadata": {},
   "outputs": [
    {
     "name": "stdout",
     "output_type": "stream",
     "text": [
      "0\n",
      "2\n",
      "4\n",
      "6\n",
      "8\n",
      "10\n",
      "12\n",
      "14\n",
      "16\n",
      "18\n",
      "20\n"
     ]
    }
   ],
   "source": [
    "#Escribir un programa que itere en un rango de 10 veces Por cada iteracion multiplicar el iterador por dos e imprimir el resultado\n",
    "for i in range(10):\n",
    "    print(i*2)\n",
    "    \n",
    "for i in range(1,11):\n",
    "    i_multi = i*2\n",
    "print(i_multi)   \n",
    "\n"
   ]
  },
  {
   "cell_type": "code",
   "execution_count": null,
   "id": "14083aef",
   "metadata": {},
   "outputs": [
    {
     "name": "stdout",
     "output_type": "stream",
     "text": [
      "coca-cola\n",
      "fanta-guarana\n",
      "sprite\n",
      "fresca pomelo\n",
      "coca-cola\n",
      "fanta-guarana\n",
      "sprite\n",
      "fresca pomelo\n"
     ]
    }
   ],
   "source": [
    "lista_marcas_gaseosas = ['pepsi', 'coca-cola', 'fanta-guarana', 'sprite', 'fresca pomelo', 'niko','simba']\n",
    "\n",
    "for g in lista_marcas_gaseosas:\n",
    "    if len(g) >= 6:\n",
    "        print(g)\n",
    "        \n",
    "\n",
    "lista_marcas_gaseosas = ['pepsi', 'coca-cola', 'fanta-guarana', 'sprite', 'fresca pomelo', 'niko','simba']\n",
    "\n",
    "for i in lista_marcas_gaseosas:\n",
    "    if len(i) >= 6:\n",
    "        print(i)\n",
    "\n",
    "#PERO LA FORMA CORRECTA Y OPTIMA ES : \n",
    "lista_marcas_gaseosas = ['pepsi', 'coca-cola', 'fanta-guarana', 'sprite', 'fresca pomelo', 'niko','simba']\n",
    "\n",
    "for marca in lista_marcas_gaseosas:\n",
    "    if len(marca) >= 6:\n",
    "        print(marca)\n"
   ]
  },
  {
   "cell_type": "code",
   "execution_count": null,
   "id": "a651b626",
   "metadata": {},
   "outputs": [
    {
     "ename": "IndentationError",
     "evalue": "unexpected indent (967494249.py, line 16)",
     "output_type": "error",
     "traceback": [
      "  \u001b[36mCell\u001b[39m\u001b[36m \u001b[39m\u001b[32mIn[27]\u001b[39m\u001b[32m, line 16\u001b[39m\n\u001b[31m    \u001b[39m\u001b[31mprint(f'Encontramos la letra o' {c})\u001b[39m\n    ^\n\u001b[31mIndentationError\u001b[39m\u001b[31m:\u001b[39m unexpected indent\n"
     ]
    }
   ],
   "source": [
    "#Solicitar al usuario que ingrese una frase\n",
    "#Imprimir un mensaje cada vez que encuentre una letra \"o\"\n",
    "\n",
    "frase = str(input('dame un frase'))\n",
    "print (frase)\n",
    "for letra in frase:\n",
    "    if letra == \"o\":\n",
    "         print('Encontramos la letra o')\n",
    "         \n",
    "\n"
   ]
  },
  {
   "cell_type": "markdown",
   "id": "6189e37c",
   "metadata": {},
   "source": []
  },
  {
   "cell_type": "code",
   "execution_count": 2,
   "id": "51e03f53",
   "metadata": {},
   "outputs": [
    {
     "name": "stdout",
     "output_type": "stream",
     "text": [
      "hola\n"
     ]
    }
   ],
   "source": [
    "print(\"hola\")"
   ]
  },
  {
   "cell_type": "code",
   "execution_count": 29,
   "id": "29b31667",
   "metadata": {},
   "outputs": [
    {
     "name": "stdout",
     "output_type": "stream",
     "text": [
      "Trabajador\n"
     ]
    }
   ],
   "source": [
    "edad_individuo = 18\n",
    "if edad_individuo< 18:\n",
    "    print('Estudiante')\n",
    "elif edad_individuo >65:\n",
    "    print ('Jubilado')\n",
    "    \n",
    "else:\n",
    "    print ('Trabajador')\n"
   ]
  },
  {
   "cell_type": "code",
   "execution_count": 9,
   "id": "ab485260",
   "metadata": {},
   "outputs": [
    {
     "name": "stdout",
     "output_type": "stream",
     "text": [
      "hola\n"
     ]
    }
   ],
   "source": [
    "print(\"hola\")"
   ]
  }
 ],
 "metadata": {
  "kernelspec": {
   "display_name": "Python 3",
   "language": "python",
   "name": "python3"
  },
  "language_info": {
   "codemirror_mode": {
    "name": "ipython",
    "version": 3
   },
   "file_extension": ".py",
   "mimetype": "text/x-python",
   "name": "python",
   "nbconvert_exporter": "python",
   "pygments_lexer": "ipython3",
   "version": "3.12.1"
  }
 },
 "nbformat": 4,
 "nbformat_minor": 5
}
