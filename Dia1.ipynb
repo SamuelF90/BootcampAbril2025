{
 "cells": [
  {
   "cell_type": "code",
   "execution_count": 59,
   "id": "789335dc",
   "metadata": {},
   "outputs": [
    {
     "name": "stdout",
     "output_type": "stream",
     "text": [
      "Listo!\n",
      "abrir pan\n",
      "agregar huevo\n",
      "cerrar pan\n",
      "abrir pan\n",
      "agregar tomate y lechuga\n",
      "cerrar pan\n"
     ]
    }
   ],
   "source": [
    "def preparar_sandwich(ingrediente):\n",
    "    print('abrir pan')\n",
    "    print(f'agregar {ingrediente}')\n",
    "    print('cerrar pan')\n",
    "print('Listo!')\n",
    "\n",
    "preparar_sandwich(ingrediente='huevo')\n",
    "preparar_sandwich(ingrediente='tomate y lechuga')\n"
   ]
  },
  {
   "cell_type": "code",
   "execution_count": null,
   "id": "e1d7126e",
   "metadata": {},
   "outputs": [
    {
     "name": "stdout",
     "output_type": "stream",
     "text": [
      "Compra lista!\n"
     ]
    },
    {
     "ename": "TypeError",
     "evalue": "comprar_electrodomestico() missing 1 required positional argument: 'caracteristicas'",
     "output_type": "error",
     "traceback": [
      "\u001b[31m---------------------------------------------------------------------------\u001b[39m",
      "\u001b[31mTypeError\u001b[39m                                 Traceback (most recent call last)",
      "\u001b[36mCell\u001b[39m\u001b[36m \u001b[39m\u001b[32mIn[62]\u001b[39m\u001b[32m, line 8\u001b[39m\n\u001b[32m      6\u001b[39m     \u001b[38;5;28mprint\u001b[39m(\u001b[33m'\u001b[39m\u001b[33magregar precio\u001b[39m\u001b[33m'\u001b[39m)\n\u001b[32m      7\u001b[39m \u001b[38;5;28mprint\u001b[39m(\u001b[33m'\u001b[39m\u001b[33mCompra lista!\u001b[39m\u001b[33m'\u001b[39m)\n\u001b[32m----> \u001b[39m\u001b[32m8\u001b[39m \u001b[43mcomprar_electrodomestico\u001b[49m\u001b[43m(\u001b[49m\u001b[43m)\u001b[49m\n",
      "\u001b[31mTypeError\u001b[39m: comprar_electrodomestico() missing 1 required positional argument: 'caracteristicas'"
     ]
    }
   ],
   "source": [
    "#Escribir una funcion agregando las caracteriticas de un elemento a comprar e imprima el elemento con sus caracteristicas.\n",
    "\n",
    "def comprar_electrodomestico(electrodomestico,caracteristicas,precio):\n",
    "    print(f'agregar'{electrodomestico})\n",
    "    print(f'agregar {caracteristicas}')\n",
    "    print(f'agregar {precio}')\n",
    "print('Compra lista!')\n",
    "comprar_electrodomestico(caracteristicas= 'Color' 'Smart' 'Sonido')\n",
    "comprar_electrodomestico(electrodomestico= 'Tv' )\n"
   ]
  },
  {
   "cell_type": "code",
   "execution_count": 49,
   "id": "29baab55",
   "metadata": {},
   "outputs": [
    {
     "name": "stdout",
     "output_type": "stream",
     "text": [
      "Listo!\n",
      "abrir pan\n",
      "agregar jamon\n",
      "agregar queso\n",
      "cerrar pan\n",
      "abrir pan\n",
      "agregar jamon\n",
      "agregar queso\n",
      "cerrar pan\n",
      "abrir pan\n",
      "agregar jamon\n",
      "agregar queso\n",
      "cerrar pan\n"
     ]
    }
   ],
   "source": [
    "#Funcion \"Preparar Sandwich\"\n",
    "def preparar_sandwich():\n",
    "    print('abrir pan')\n",
    "    print('agregar jamon')\n",
    "    print('agregar queso')\n",
    "    print('cerrar pan')\n",
    "print('Listo!')\n",
    "    \n",
    "preparar_sandwich()\n",
    "preparar_sandwich()\n",
    "preparar_sandwich()"
   ]
  },
  {
   "cell_type": "code",
   "execution_count": 57,
   "id": "6cb9e6b5",
   "metadata": {},
   "outputs": [
    {
     "name": "stdout",
     "output_type": "stream",
     "text": [
      "Listo a romperla crack!\n",
      "abrir bolso\n",
      "agregar remera\n",
      "agregar short\n",
      "agregar media\n",
      "agregar venda\n",
      "agregar pelota\n",
      "agregar botines\n",
      "agregar tobilleras\n",
      "agregar canilleras\n",
      "agregar billetera\n",
      "agregar remedio caliente\n",
      "agregar llaves\n",
      "cerrar el bolso\n",
      "abrir bolso\n",
      "agregar remera\n",
      "agregar short\n",
      "agregar media\n",
      "agregar venda\n",
      "agregar pelota\n",
      "agregar botines\n",
      "agregar tobilleras\n",
      "agregar canilleras\n",
      "agregar billetera\n",
      "agregar remedio caliente\n",
      "agregar llaves\n",
      "cerrar el bolso\n"
     ]
    }
   ],
   "source": [
    "#Crear una función de un proceso que se les ocurra que tenga varios pasos.Ejecutar la función 3 veces.\n",
    "\n",
    "def preparar_bolso_de_futbol():\n",
    "    print('abrir bolso')\n",
    "    print('agregar remera')\n",
    "    print('agregar short')\n",
    "    print('agregar media')\n",
    "    print('agregar venda')\n",
    "    print('agregar pelota')\n",
    "    print('agregar botines')\n",
    "    print('agregar tobilleras')\n",
    "    print('agregar canilleras')\n",
    "    print('agregar billetera')\n",
    "    print('agregar remedio caliente')\n",
    "    print('agregar llaves')\n",
    "    print('cerrar el bolso')\n",
    "print('Listo a romperla crack!')\n",
    "preparar_bolso_de_futbol()\n",
    "preparar_bolso_de_futbol()\n",
    "# preparar_bolso_de_futbol()\n",
    "\n",
    "\n"
   ]
  },
  {
   "cell_type": "markdown",
   "id": "f7f15b78",
   "metadata": {},
   "source": [
    "funciones: son un conjunto de instrucciones de una operacion que quisieramos volver a repetir en diferentes partes de nuestro programa\n",
    "Las funciones "
   ]
  },
  {
   "cell_type": "code",
   "execution_count": null,
   "id": "bde9cbc8",
   "metadata": {},
   "outputs": [
    {
     "name": "stdout",
     "output_type": "stream",
     "text": [
      "8\n",
      "2\n",
      "10\n"
     ]
    }
   ],
   "source": [
    "\n",
    "#Solicitar al usuario ingresar dos números y almacenarlos en dos variables. Luego, imprimir la suma de los dos números.\n",
    "num1 = int (input('dame un numero'))\n",
    "#print(num1)\n",
    "num2 = int (input('dame un numero'))\n",
    "#print(num2)\n",
    "suma_numeros = (num1)+(num2)\n",
    "print (suma_numeros)"
   ]
  },
  {
   "cell_type": "code",
   "execution_count": 34,
   "id": "0c22fb49",
   "metadata": {},
   "outputs": [
    {
     "name": "stdout",
     "output_type": "stream",
     "text": [
      "Xavier\n",
      "30\n",
      "20\n"
     ]
    }
   ],
   "source": [
    "#nombre = input (\"Cual es tu nombre?:\")\n",
    "print (nombre)\n",
    "num1 = int (input('dame un numero'))\n",
    "print(num1)\n",
    "num2 = int (input('dame un numero'))\n",
    "print(num2)\n",
    "\n"
   ]
  },
  {
   "cell_type": "code",
   "execution_count": 27,
   "id": "72182796",
   "metadata": {},
   "outputs": [
    {
     "name": "stdout",
     "output_type": "stream",
     "text": [
      "ArturoVidal\n",
      "Arturo Vidal\n",
      "hola, mi nombre es Vidal\n",
      "hola, mi nombre es  Vidal\n",
      "hola, mi nombre es: ArturoVidal\n",
      "hola, mi nombre es  Vidal\n"
     ]
    }
   ],
   "source": [
    "#CONCATENACION\n",
    "nombre = 'Arturo'\n",
    "apellido = 'Vidal'\n",
    "nombre_completo = nombre + apellido\n",
    "print(nombre_completo)\n",
    "#Formas_de Concatenar\n",
    "print(nombre + ' '+ apellido)\n",
    "print('hola, mi nombre es' + ' ' +apellido)\n",
    "print('hola, mi nombre es' + ' ' + ' ' + apellido)\n",
    "print(f\"hola, mi nombre es: {nombre}{apellido}\")\n",
    "print('hola, mi nombre es' , ' ' +apellido)\n",
    "\n"
   ]
  },
  {
   "cell_type": "code",
   "execution_count": 31,
   "id": "485d1638",
   "metadata": {},
   "outputs": [
    {
     "name": "stdout",
     "output_type": "stream",
     "text": [
      "Hola.Me llamo Benicio Ferreira Mucho gusto.\n"
     ]
    }
   ],
   "source": [
    "nombre= 'Benicio'\n",
    "apellido= 'Ferreira'\n",
    "#print(nombre + ' '+apellido)\n",
    "print(f'Hola.Me llamo {nombre} {apellido} Mucho gusto.') "
   ]
  },
  {
   "cell_type": "code",
   "execution_count": 17,
   "id": "3c20add1",
   "metadata": {},
   "outputs": [
    {
     "name": "stdout",
     "output_type": "stream",
     "text": [
      "35000\n",
      "30000\n",
      "76000\n"
     ]
    }
   ],
   "source": [
    "#Suma\n",
    "precio_total = 15000+20000\n",
    "print(precio_total)\n",
    "#Descuento\n",
    "precio_descuento = precio_total-5000\n",
    "print(precio_descuento)\n",
    "#promedio\n",
    "precio_gaseosa= 19000\n",
    "cantidad_gaseosa = 4\n",
    "cantidad_personas = 15\n",
    "precio_final = precio_gaseosa * cantidad_gaseosa\n",
    "print(precio_final)"
   ]
  },
  {
   "cell_type": "code",
   "execution_count": 25,
   "id": "b51fc22a",
   "metadata": {},
   "outputs": [
    {
     "name": "stdout",
     "output_type": "stream",
     "text": [
      "12\n",
      "8\n"
     ]
    }
   ],
   "source": [
    "#Suma: asignar 2 nros en 2 variables diferentes cantidad_de_manzanas y cantidad_de_naranjas Luego sumar ambas variables en cantidad_de_frutas Imprimir la ultima variable\n",
    "cantidad_de_manzanas = 10\n",
    "cantidad_de_naranjas = 2\n",
    "cantidad_de_frutas = cantidad_de_manzanas+cantidad_de_naranjas\n",
    "print(cantidad_de_frutas)\n",
    "\n",
    "#Resta: asignar un valor numérico a la variable frutas_vendidas. Luego, asignar la resta entre cantidad_de_frutas y frutas_vendidas a la variable frutas_restantes. Imprimir la última variable.\n",
    "frutas_vendidas = 4\n",
    "frutas_restantes= cantidad_de_frutas - frutas_vendidas\n",
    "print(frutas_restantes) \n",
    "\n"
   ]
  },
  {
   "cell_type": "markdown",
   "id": "b6d28148",
   "metadata": {},
   "source": [
    "SUMA +\n",
    "RESTA -\n",
    "DIVISION /\n",
    "MULTIPLICACION *\n",
    "DIVISION ENTERA //"
   ]
  },
  {
   "cell_type": "code",
   "execution_count": null,
   "id": "61f6040e",
   "metadata": {},
   "outputs": [
    {
     "name": "stdout",
     "output_type": "stream",
     "text": [
      "12345\n",
      "1.2\n",
      "Denver\n",
      "\"Wily\"\n",
      "'Raul'\n"
     ]
    }
   ],
   "source": [
    "numero = 12345\n",
    "print(numero)\n",
    "numero_decimal = 1.2\n",
    "print(numero_decimal)\n",
    "nombre = 'Denver'\n",
    "print(nombre)\n",
    "\n",
    "nombre = '\"Wily\"'\n",
    "print(nombre)\n",
    "\n",
    "nombre = \"'Raul'\"\n",
    "print(nombre)\n",
    "\n",
    "cajon_abierto = False\n",
    "print(cajon_abierto)"
   ]
  },
  {
   "cell_type": "markdown",
   "id": "d1b6f4aa",
   "metadata": {},
   "source": [
    "##Tipos de Datos\n",
    "int- integer- 112\n",
    "float-floatin-1.2\n",
    "str-string - \"samu\" 'fernandez' \n",
    "bool-boolean- True- False"
   ]
  },
  {
   "cell_type": "code",
   "execution_count": 9,
   "id": "ec2018e9",
   "metadata": {},
   "outputs": [
    {
     "name": "stdout",
     "output_type": "stream",
     "text": [
      "naranja,pera\n"
     ]
    }
   ],
   "source": [
    "frutas = \"naranja,pera\"\n",
    "print(frutas)"
   ]
  },
  {
   "cell_type": "code",
   "execution_count": 8,
   "id": "e1139e47",
   "metadata": {},
   "outputs": [
    {
     "name": "stdout",
     "output_type": "stream",
     "text": [
      "manzana\n",
      "5\n",
      "naranja\n"
     ]
    }
   ],
   "source": [
    "frutas = \"manzana\"\n",
    "print(frutas)\n",
    "cantidad_de_frutas = 5\n",
    "print(cantidad_de_frutas)\n",
    "\n",
    "frutas = \"naranja\"\n",
    "print(frutas)"
   ]
  },
  {
   "cell_type": "code",
   "execution_count": 1,
   "id": "fc82e89a",
   "metadata": {},
   "outputs": [
    {
     "name": "stdout",
     "output_type": "stream",
     "text": [
      "Hola Mundo\n"
     ]
    }
   ],
   "source": [
    "print(\"Hola Mundo\")"
   ]
  },
  {
   "cell_type": "code",
   "execution_count": 5,
   "id": "2d611b0d",
   "metadata": {},
   "outputs": [
    {
     "name": "stdout",
     "output_type": "stream",
     "text": [
      "Samuel\n",
      "Fernandez\n"
     ]
    }
   ],
   "source": [
    "nombre = \"Samuel\"\n",
    "apellido = \"Fernandez\"\n",
    "print(nombre)\n",
    "print(apellido)"
   ]
  }
 ],
 "metadata": {
  "kernelspec": {
   "display_name": "Python 3",
   "language": "python",
   "name": "python3"
  },
  "language_info": {
   "codemirror_mode": {
    "name": "ipython",
    "version": 3
   },
   "file_extension": ".py",
   "mimetype": "text/x-python",
   "name": "python",
   "nbconvert_exporter": "python",
   "pygments_lexer": "ipython3",
   "version": "3.12.1"
  }
 },
 "nbformat": 4,
 "nbformat_minor": 5
}
